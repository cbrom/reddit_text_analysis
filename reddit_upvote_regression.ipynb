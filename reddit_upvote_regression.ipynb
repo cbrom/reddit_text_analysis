{
 "cells": [
  {
   "cell_type": "code",
   "execution_count": 1,
   "metadata": {},
   "outputs": [
    {
     "name": "stderr",
     "output_type": "stream",
     "text": [
      "dummies-1.5.6 provided by Decision Patterns\n",
      "\n"
     ]
    }
   ],
   "source": [
    "library(stringr)\n",
    "library(data.table)\n",
    "library(dummies)"
   ]
  },
  {
   "cell_type": "code",
   "execution_count": 2,
   "metadata": {},
   "outputs": [],
   "source": [
    "reddit_comments_path = \"/home/cbrom/workspace/datasets/big_data/reddit_comments.csv\""
   ]
  },
  {
   "cell_type": "code",
   "execution_count": 3,
   "metadata": {},
   "outputs": [],
   "source": [
    "# reddit_comments <- read.csv(reddit_comments_path, nrows=1000)\n",
    "# length is 1236782\n",
    "reddit_comments <- read.csv(reddit_comments_path, nrows=1000000)"
   ]
  },
  {
   "cell_type": "code",
   "execution_count": 4,
   "metadata": {},
   "outputs": [
    {
     "data": {
      "text/html": [
       "1000000"
      ],
      "text/latex": [
       "1000000"
      ],
      "text/markdown": [
       "1000000"
      ],
      "text/plain": [
       "[1] 1000000"
      ]
     },
     "metadata": {},
     "output_type": "display_data"
    }
   ],
   "source": [
    "nrow(reddit_comments)"
   ]
  },
  {
   "cell_type": "code",
   "execution_count": 5,
   "metadata": {},
   "outputs": [
    {
     "data": {
      "text/html": [
       "<table>\n",
       "<thead><tr><th scope=col>created_utc</th><th scope=col>ups</th><th scope=col>subreddit_id</th><th scope=col>link_id</th><th scope=col>name</th><th scope=col>score_hidden</th><th scope=col>author_flair_css_class</th><th scope=col>author_flair_text</th><th scope=col>subreddit</th><th scope=col>gilded</th><th scope=col>⋯</th><th scope=col>time_since_link</th><th scope=col>is_root</th><th scope=col>is_selftext</th><th scope=col>parent_cosine</th><th scope=col>parent_euc</th><th scope=col>cosine_euc</th><th scope=col>title_cosine</th><th scope=col>title_euc</th><th scope=col>no_of_past_comments</th><th scope=col>score_till_now</th></tr></thead>\n",
       "<tbody>\n",
       "\t<tr><td>1430438556                              </td><td>4                                       </td><td>t5_2qh55                                </td><td>t3_34gagr                               </td><td>t1_cqugc7x                              </td><td>0                                       </td><td>                                        </td><td>                                        </td><td>food                                    </td><td>0                                       </td><td>⋯                                       </td><td> 6519                                   </td><td>True                                    </td><td>False                                   </td><td>NA                                      </td><td>NA                                      </td><td>(0.24304924461047894, 3.188900227798876)</td><td>0.2430492                               </td><td>3.188900                                </td><td>0                                       </td><td>4                                       </td></tr>\n",
       "\t<tr><td>1430438572                              </td><td>2                                       </td><td>t5_2qh55                                </td><td>t3_34drd4                               </td><td>t1_cqugcjl                              </td><td>0                                       </td><td>                                        </td><td>                                        </td><td>food                                    </td><td>0                                       </td><td>⋯                                       </td><td>52327                                   </td><td>False                                   </td><td>False                                   </td><td>NA                                      </td><td>NA                                      </td><td>(0.5145644843230366, 4.038002609254522) </td><td>0.5145645                               </td><td>4.038003                                </td><td>0                                       </td><td>2                                       </td></tr>\n",
       "\t<tr><td>1430438641                              </td><td>1                                       </td><td>t5_2qh55                                </td><td>t3_34drd4                               </td><td>t1_cqugdz8                              </td><td>0                                       </td><td>                                        </td><td>                                        </td><td>food                                    </td><td>0                                       </td><td>⋯                                       </td><td>52396                                   </td><td>False                                   </td><td>False                                   </td><td>NA                                      </td><td>NA                                      </td><td>(0.6836220117096632, 4.657358325188281) </td><td>0.6836220                               </td><td>4.657358                                </td><td>1                                       </td><td>1                                       </td></tr>\n",
       "\t<tr><td>1430438762                              </td><td>2                                       </td><td>t5_2qh55                                </td><td>t3_34gkc7                               </td><td>t1_cquggkz                              </td><td>0                                       </td><td>                                        </td><td>                                        </td><td>food                                    </td><td>0                                       </td><td>⋯                                       </td><td> 1696                                   </td><td>False                                   </td><td>False                                   </td><td>NA                                      </td><td>NA                                      </td><td>(0.13002163500270414, 2.445489644653528)</td><td>0.1300216                               </td><td>2.445490                                </td><td>0                                       </td><td>2                                       </td></tr>\n",
       "\t<tr><td>1430438833                              </td><td>0                                       </td><td>t5_2qh55                                </td><td>t3_34fsr0                               </td><td>t1_cqugi3n                              </td><td>0                                       </td><td>                                        </td><td>                                        </td><td>food                                    </td><td>0                                       </td><td>⋯                                       </td><td>14986                                   </td><td>True                                    </td><td>False                                   </td><td>NA                                      </td><td>NA                                      </td><td>(0.6757868599768919, 5.91176665255238)  </td><td>0.6757869                               </td><td>5.911767                                </td><td>0                                       </td><td>0                                       </td></tr>\n",
       "\t<tr><td>1430438866                              </td><td>5                                       </td><td>t5_2qh55                                </td><td>t3_34g0ql                               </td><td>t1_cqugirj                              </td><td>0                                       </td><td>                                        </td><td>                                        </td><td>food                                    </td><td>0                                       </td><td>⋯                                       </td><td>11371                                   </td><td>False                                   </td><td>False                                   </td><td>NA                                      </td><td>NA                                      </td><td>(0.5561018557762981, 5.644259450507274) </td><td>0.5561019                               </td><td>5.644259                                </td><td>0                                       </td><td>5                                       </td></tr>\n",
       "</tbody>\n",
       "</table>\n"
      ],
      "text/latex": [
       "\\begin{tabular}{r|llllllllllllllllllllllllllllllllllllllllllllllllllllllllllllll}\n",
       " created\\_utc & ups & subreddit\\_id & link\\_id & name & score\\_hidden & author\\_flair\\_css\\_class & author\\_flair\\_text & subreddit & gilded & ⋯ & time\\_since\\_link & is\\_root & is\\_selftext & parent\\_cosine & parent\\_euc & cosine\\_euc & title\\_cosine & title\\_euc & no\\_of\\_past\\_comments & score\\_till\\_now\\\\\n",
       "\\hline\n",
       "\t 1430438556                               & 4                                        & t5\\_2qh55                               & t3\\_34gagr                              & t1\\_cqugc7x                             & 0                                        &                                          &                                          & food                                     & 0                                        & ⋯                                        &  6519                                    & True                                     & False                                    & NA                                       & NA                                       & (0.24304924461047894, 3.188900227798876) & 0.2430492                                & 3.188900                                 & 0                                        & 4                                       \\\\\n",
       "\t 1430438572                               & 2                                        & t5\\_2qh55                               & t3\\_34drd4                              & t1\\_cqugcjl                             & 0                                        &                                          &                                          & food                                     & 0                                        & ⋯                                        & 52327                                    & False                                    & False                                    & NA                                       & NA                                       & (0.5145644843230366, 4.038002609254522)  & 0.5145645                                & 4.038003                                 & 0                                        & 2                                       \\\\\n",
       "\t 1430438641                               & 1                                        & t5\\_2qh55                               & t3\\_34drd4                              & t1\\_cqugdz8                             & 0                                        &                                          &                                          & food                                     & 0                                        & ⋯                                        & 52396                                    & False                                    & False                                    & NA                                       & NA                                       & (0.6836220117096632, 4.657358325188281)  & 0.6836220                                & 4.657358                                 & 1                                        & 1                                       \\\\\n",
       "\t 1430438762                               & 2                                        & t5\\_2qh55                               & t3\\_34gkc7                              & t1\\_cquggkz                             & 0                                        &                                          &                                          & food                                     & 0                                        & ⋯                                        &  1696                                    & False                                    & False                                    & NA                                       & NA                                       & (0.13002163500270414, 2.445489644653528) & 0.1300216                                & 2.445490                                 & 0                                        & 2                                       \\\\\n",
       "\t 1430438833                               & 0                                        & t5\\_2qh55                               & t3\\_34fsr0                              & t1\\_cqugi3n                             & 0                                        &                                          &                                          & food                                     & 0                                        & ⋯                                        & 14986                                    & True                                     & False                                    & NA                                       & NA                                       & (0.6757868599768919, 5.91176665255238)   & 0.6757869                                & 5.911767                                 & 0                                        & 0                                       \\\\\n",
       "\t 1430438866                               & 5                                        & t5\\_2qh55                               & t3\\_34g0ql                              & t1\\_cqugirj                             & 0                                        &                                          &                                          & food                                     & 0                                        & ⋯                                        & 11371                                    & False                                    & False                                    & NA                                       & NA                                       & (0.5561018557762981, 5.644259450507274)  & 0.5561019                                & 5.644259                                 & 0                                        & 5                                       \\\\\n",
       "\\end{tabular}\n"
      ],
      "text/markdown": [
       "\n",
       "| created_utc | ups | subreddit_id | link_id | name | score_hidden | author_flair_css_class | author_flair_text | subreddit | gilded | ⋯ | time_since_link | is_root | is_selftext | parent_cosine | parent_euc | cosine_euc | title_cosine | title_euc | no_of_past_comments | score_till_now |\n",
       "|---|---|---|---|---|---|---|---|---|---|---|---|---|---|---|---|---|---|---|---|---|\n",
       "| 1430438556                               | 4                                        | t5_2qh55                                 | t3_34gagr                                | t1_cqugc7x                               | 0                                        |                                          |                                          | food                                     | 0                                        | ⋯                                        |  6519                                    | True                                     | False                                    | NA                                       | NA                                       | (0.24304924461047894, 3.188900227798876) | 0.2430492                                | 3.188900                                 | 0                                        | 4                                        |\n",
       "| 1430438572                               | 2                                        | t5_2qh55                                 | t3_34drd4                                | t1_cqugcjl                               | 0                                        |                                          |                                          | food                                     | 0                                        | ⋯                                        | 52327                                    | False                                    | False                                    | NA                                       | NA                                       | (0.5145644843230366, 4.038002609254522)  | 0.5145645                                | 4.038003                                 | 0                                        | 2                                        |\n",
       "| 1430438641                               | 1                                        | t5_2qh55                                 | t3_34drd4                                | t1_cqugdz8                               | 0                                        |                                          |                                          | food                                     | 0                                        | ⋯                                        | 52396                                    | False                                    | False                                    | NA                                       | NA                                       | (0.6836220117096632, 4.657358325188281)  | 0.6836220                                | 4.657358                                 | 1                                        | 1                                        |\n",
       "| 1430438762                               | 2                                        | t5_2qh55                                 | t3_34gkc7                                | t1_cquggkz                               | 0                                        |                                          |                                          | food                                     | 0                                        | ⋯                                        |  1696                                    | False                                    | False                                    | NA                                       | NA                                       | (0.13002163500270414, 2.445489644653528) | 0.1300216                                | 2.445490                                 | 0                                        | 2                                        |\n",
       "| 1430438833                               | 0                                        | t5_2qh55                                 | t3_34fsr0                                | t1_cqugi3n                               | 0                                        |                                          |                                          | food                                     | 0                                        | ⋯                                        | 14986                                    | True                                     | False                                    | NA                                       | NA                                       | (0.6757868599768919, 5.91176665255238)   | 0.6757869                                | 5.911767                                 | 0                                        | 0                                        |\n",
       "| 1430438866                               | 5                                        | t5_2qh55                                 | t3_34g0ql                                | t1_cqugirj                               | 0                                        |                                          |                                          | food                                     | 0                                        | ⋯                                        | 11371                                    | False                                    | False                                    | NA                                       | NA                                       | (0.5561018557762981, 5.644259450507274)  | 0.5561019                                | 5.644259                                 | 0                                        | 5                                        |\n",
       "\n"
      ],
      "text/plain": [
       "  created_utc ups subreddit_id link_id   name       score_hidden\n",
       "1 1430438556  4   t5_2qh55     t3_34gagr t1_cqugc7x 0           \n",
       "2 1430438572  2   t5_2qh55     t3_34drd4 t1_cqugcjl 0           \n",
       "3 1430438641  1   t5_2qh55     t3_34drd4 t1_cqugdz8 0           \n",
       "4 1430438762  2   t5_2qh55     t3_34gkc7 t1_cquggkz 0           \n",
       "5 1430438833  0   t5_2qh55     t3_34fsr0 t1_cqugi3n 0           \n",
       "6 1430438866  5   t5_2qh55     t3_34g0ql t1_cqugirj 0           \n",
       "  author_flair_css_class author_flair_text subreddit gilded ⋯ time_since_link\n",
       "1                                          food      0      ⋯  6519          \n",
       "2                                          food      0      ⋯ 52327          \n",
       "3                                          food      0      ⋯ 52396          \n",
       "4                                          food      0      ⋯  1696          \n",
       "5                                          food      0      ⋯ 14986          \n",
       "6                                          food      0      ⋯ 11371          \n",
       "  is_root is_selftext parent_cosine parent_euc\n",
       "1 True    False       NA            NA        \n",
       "2 False   False       NA            NA        \n",
       "3 False   False       NA            NA        \n",
       "4 False   False       NA            NA        \n",
       "5 True    False       NA            NA        \n",
       "6 False   False       NA            NA        \n",
       "  cosine_euc                               title_cosine title_euc\n",
       "1 (0.24304924461047894, 3.188900227798876) 0.2430492    3.188900 \n",
       "2 (0.5145644843230366, 4.038002609254522)  0.5145645    4.038003 \n",
       "3 (0.6836220117096632, 4.657358325188281)  0.6836220    4.657358 \n",
       "4 (0.13002163500270414, 2.445489644653528) 0.1300216    2.445490 \n",
       "5 (0.6757868599768919, 5.91176665255238)   0.6757869    5.911767 \n",
       "6 (0.5561018557762981, 5.644259450507274)  0.5561019    5.644259 \n",
       "  no_of_past_comments score_till_now\n",
       "1 0                   4             \n",
       "2 0                   2             \n",
       "3 1                   1             \n",
       "4 0                   2             \n",
       "5 0                   0             \n",
       "6 0                   5             "
      ]
     },
     "metadata": {},
     "output_type": "display_data"
    }
   ],
   "source": [
    "head(reddit_comments)"
   ]
  },
  {
   "cell_type": "code",
   "execution_count": 6,
   "metadata": {},
   "outputs": [],
   "source": [
    "# drop when title _cosine is nan\n",
    "df <- reddit_comments[complete.cases(reddit_comments[, 'title_cosine']), ]"
   ]
  },
  {
   "cell_type": "code",
   "execution_count": 7,
   "metadata": {},
   "outputs": [],
   "source": [
    "getmode <- function(values) {\n",
    "    uniqvalues <- unique(values)\n",
    "    uniqvalues[which.max(tabulate(match(values, uniqvalues)))]\n",
    "}"
   ]
  },
  {
   "cell_type": "code",
   "execution_count": 8,
   "metadata": {},
   "outputs": [],
   "source": [
    "# impute with mode of parent column score\n",
    "parent_score_impute <- getmode(subset(df, (!is.na(df$parent_score)))$parent_score)\n",
    "comment_tree_root_score_impute <- getmode(subset(df, (!is.na(df$comment_tree_root_score)))$comment_tree_root_score)\n",
    "time_since_comment_tree_root_impute <- getmode(subset(df, (!is.na(df$time_since_comment_tree_root)))$time_since_comment_tree_root)\n",
    "parent_cosine_impute <- 0\n",
    "parent_euc_impute <- 0"
   ]
  },
  {
   "cell_type": "code",
   "execution_count": 9,
   "metadata": {},
   "outputs": [],
   "source": [
    "# replace impute values\n",
    "# parent_score\n",
    "# comment_tree_root_score\n",
    "# time_since_comment_tree_root\n",
    "# parent_cosine\n",
    "# parent_euc\n",
    "df[is.na(df$parent_score)==TRUE, ]$parent_score <- parent_score_impute\n",
    "df[is.na(df$comment_tree_root_score) == TRUE, ]$comment_tree_root_score <- comment_tree_root_score <- comment_tree_root_score_impute\n",
    "df[is.na(df$time_since_comment_tree_root)==TRUE, ]$parent_score <- time_since_comment_tree_root_impute\n",
    "df[is.na(df$parent_cosine)==TRUE, ]$parent_cosine <- parent_cosine_impute\n",
    "df[is.na(df$parent_euc)==TRUE, ]$parent_euc <- parent_euc_impute\n"
   ]
  },
  {
   "cell_type": "code",
   "execution_count": 10,
   "metadata": {},
   "outputs": [],
   "source": [
    "bool_cols <- c('over_18', 'is_edited', 'is_quoted', 'is_selftext')\n",
    "\n",
    "cat_cols <- c('subreddit', 'distinguished','hour_of_comment', 'weekday')\n",
    "\n",
    "numeric_cols <- c('gilded', 'controversiality', 'upvote_ratio','time_since_link',\n",
    "                'depth', 'no_of_linked_sr', 'no_of_linked_urls', 'parent_score',\n",
    "                'comment_tree_root_score', 'time_since_comment_tree_root',\n",
    "                'subjectivity', 'senti_neg', 'senti_pos', 'senti_neu',\n",
    "                'senti_comp', 'no_quoted', 'time_since_parent', 'word_counts',\n",
    "                'no_of_past_comments', 'parent_cosine','parent_euc',\n",
    "                'title_cosine', 'title_euc','link_score')"
   ]
  },
  {
   "cell_type": "code",
   "execution_count": 11,
   "metadata": {},
   "outputs": [],
   "source": [
    "df[,numeric_cols] = apply(df[,numeric_cols], 2, function(x) as.double(as.character(x)));"
   ]
  },
  {
   "cell_type": "code",
   "execution_count": 12,
   "metadata": {},
   "outputs": [],
   "source": [
    "features <- do.call(c, list(bool_cols, cat_cols, numeric_cols))"
   ]
  },
  {
   "cell_type": "code",
   "execution_count": 13,
   "metadata": {},
   "outputs": [],
   "source": [
    "new_df <- df[, features]"
   ]
  },
  {
   "cell_type": "code",
   "execution_count": 14,
   "metadata": {},
   "outputs": [
    {
     "data": {
      "text/html": [
       "<table>\n",
       "<thead><tr><th scope=col>over_18</th><th scope=col>is_edited</th><th scope=col>is_quoted</th><th scope=col>is_selftext</th><th scope=col>subreddit</th><th scope=col>distinguished</th><th scope=col>hour_of_comment</th><th scope=col>weekday</th><th scope=col>gilded</th><th scope=col>controversiality</th><th scope=col>⋯</th><th scope=col>senti_comp</th><th scope=col>no_quoted</th><th scope=col>time_since_parent</th><th scope=col>word_counts</th><th scope=col>no_of_past_comments</th><th scope=col>parent_cosine</th><th scope=col>parent_euc</th><th scope=col>title_cosine</th><th scope=col>title_euc</th><th scope=col>link_score</th></tr></thead>\n",
       "<tbody>\n",
       "\t<tr><td>False    </td><td>False    </td><td>False    </td><td>False    </td><td>food     </td><td>user     </td><td>0        </td><td>4        </td><td>0        </td><td>0        </td><td>⋯        </td><td> 0.5423  </td><td>0        </td><td>0        </td><td>31       </td><td>0        </td><td>0        </td><td>0        </td><td>0.2430492</td><td>3.188900 </td><td> 131     </td></tr>\n",
       "\t<tr><td>False    </td><td>False    </td><td>False    </td><td>False    </td><td>food     </td><td>user     </td><td>0        </td><td>4        </td><td>0        </td><td>0        </td><td>⋯        </td><td>-0.5719  </td><td>0        </td><td>0        </td><td>35       </td><td>0        </td><td>0        </td><td>0        </td><td>0.5145645</td><td>4.038003 </td><td>3816     </td></tr>\n",
       "\t<tr><td>False    </td><td>False    </td><td>False    </td><td>False    </td><td>food     </td><td>user     </td><td>0        </td><td>4        </td><td>0        </td><td>0        </td><td>⋯        </td><td> 0.0000  </td><td>0        </td><td>0        </td><td> 9       </td><td>1        </td><td>0        </td><td>0        </td><td>0.6836220</td><td>4.657358 </td><td>3816     </td></tr>\n",
       "\t<tr><td>False    </td><td>False    </td><td>False    </td><td>False    </td><td>food     </td><td>user     </td><td>0        </td><td>4        </td><td>0        </td><td>0        </td><td>⋯        </td><td> 0.0000  </td><td>0        </td><td>0        </td><td>25       </td><td>0        </td><td>0        </td><td>0        </td><td>0.1300216</td><td>2.445490 </td><td>  12     </td></tr>\n",
       "\t<tr><td>False    </td><td>False    </td><td>False    </td><td>False    </td><td>food     </td><td>user     </td><td>0        </td><td>4        </td><td>0        </td><td>0        </td><td>⋯        </td><td>-0.2732  </td><td>0        </td><td>0        </td><td>10       </td><td>0        </td><td>0        </td><td>0        </td><td>0.6757869</td><td>5.911767 </td><td>  98     </td></tr>\n",
       "\t<tr><td>False    </td><td>False    </td><td>False    </td><td>False    </td><td>food     </td><td>user     </td><td>0        </td><td>4        </td><td>0        </td><td>0        </td><td>⋯        </td><td> 0.6696  </td><td>0        </td><td>0        </td><td> 8       </td><td>0        </td><td>0        </td><td>0        </td><td>0.5561019</td><td>5.644259 </td><td> 719     </td></tr>\n",
       "</tbody>\n",
       "</table>\n"
      ],
      "text/latex": [
       "\\begin{tabular}{r|llllllllllllllllllllllllllllllll}\n",
       " over\\_18 & is\\_edited & is\\_quoted & is\\_selftext & subreddit & distinguished & hour\\_of\\_comment & weekday & gilded & controversiality & ⋯ & senti\\_comp & no\\_quoted & time\\_since\\_parent & word\\_counts & no\\_of\\_past\\_comments & parent\\_cosine & parent\\_euc & title\\_cosine & title\\_euc & link\\_score\\\\\n",
       "\\hline\n",
       "\t False     & False     & False     & False     & food      & user      & 0         & 4         & 0         & 0         & ⋯         &  0.5423   & 0         & 0         & 31        & 0         & 0         & 0         & 0.2430492 & 3.188900  &  131     \\\\\n",
       "\t False     & False     & False     & False     & food      & user      & 0         & 4         & 0         & 0         & ⋯         & -0.5719   & 0         & 0         & 35        & 0         & 0         & 0         & 0.5145645 & 4.038003  & 3816     \\\\\n",
       "\t False     & False     & False     & False     & food      & user      & 0         & 4         & 0         & 0         & ⋯         &  0.0000   & 0         & 0         &  9        & 1         & 0         & 0         & 0.6836220 & 4.657358  & 3816     \\\\\n",
       "\t False     & False     & False     & False     & food      & user      & 0         & 4         & 0         & 0         & ⋯         &  0.0000   & 0         & 0         & 25        & 0         & 0         & 0         & 0.1300216 & 2.445490  &   12     \\\\\n",
       "\t False     & False     & False     & False     & food      & user      & 0         & 4         & 0         & 0         & ⋯         & -0.2732   & 0         & 0         & 10        & 0         & 0         & 0         & 0.6757869 & 5.911767  &   98     \\\\\n",
       "\t False     & False     & False     & False     & food      & user      & 0         & 4         & 0         & 0         & ⋯         &  0.6696   & 0         & 0         &  8        & 0         & 0         & 0         & 0.5561019 & 5.644259  &  719     \\\\\n",
       "\\end{tabular}\n"
      ],
      "text/markdown": [
       "\n",
       "| over_18 | is_edited | is_quoted | is_selftext | subreddit | distinguished | hour_of_comment | weekday | gilded | controversiality | ⋯ | senti_comp | no_quoted | time_since_parent | word_counts | no_of_past_comments | parent_cosine | parent_euc | title_cosine | title_euc | link_score |\n",
       "|---|---|---|---|---|---|---|---|---|---|---|---|---|---|---|---|---|---|---|---|---|\n",
       "| False     | False     | False     | False     | food      | user      | 0         | 4         | 0         | 0         | ⋯         |  0.5423   | 0         | 0         | 31        | 0         | 0         | 0         | 0.2430492 | 3.188900  |  131      |\n",
       "| False     | False     | False     | False     | food      | user      | 0         | 4         | 0         | 0         | ⋯         | -0.5719   | 0         | 0         | 35        | 0         | 0         | 0         | 0.5145645 | 4.038003  | 3816      |\n",
       "| False     | False     | False     | False     | food      | user      | 0         | 4         | 0         | 0         | ⋯         |  0.0000   | 0         | 0         |  9        | 1         | 0         | 0         | 0.6836220 | 4.657358  | 3816      |\n",
       "| False     | False     | False     | False     | food      | user      | 0         | 4         | 0         | 0         | ⋯         |  0.0000   | 0         | 0         | 25        | 0         | 0         | 0         | 0.1300216 | 2.445490  |   12      |\n",
       "| False     | False     | False     | False     | food      | user      | 0         | 4         | 0         | 0         | ⋯         | -0.2732   | 0         | 0         | 10        | 0         | 0         | 0         | 0.6757869 | 5.911767  |   98      |\n",
       "| False     | False     | False     | False     | food      | user      | 0         | 4         | 0         | 0         | ⋯         |  0.6696   | 0         | 0         |  8        | 0         | 0         | 0         | 0.5561019 | 5.644259  |  719      |\n",
       "\n"
      ],
      "text/plain": [
       "  over_18 is_edited is_quoted is_selftext subreddit distinguished\n",
       "1 False   False     False     False       food      user         \n",
       "2 False   False     False     False       food      user         \n",
       "3 False   False     False     False       food      user         \n",
       "4 False   False     False     False       food      user         \n",
       "5 False   False     False     False       food      user         \n",
       "6 False   False     False     False       food      user         \n",
       "  hour_of_comment weekday gilded controversiality ⋯ senti_comp no_quoted\n",
       "1 0               4       0      0                ⋯  0.5423    0        \n",
       "2 0               4       0      0                ⋯ -0.5719    0        \n",
       "3 0               4       0      0                ⋯  0.0000    0        \n",
       "4 0               4       0      0                ⋯  0.0000    0        \n",
       "5 0               4       0      0                ⋯ -0.2732    0        \n",
       "6 0               4       0      0                ⋯  0.6696    0        \n",
       "  time_since_parent word_counts no_of_past_comments parent_cosine parent_euc\n",
       "1 0                 31          0                   0             0         \n",
       "2 0                 35          0                   0             0         \n",
       "3 0                  9          1                   0             0         \n",
       "4 0                 25          0                   0             0         \n",
       "5 0                 10          0                   0             0         \n",
       "6 0                  8          0                   0             0         \n",
       "  title_cosine title_euc link_score\n",
       "1 0.2430492    3.188900   131      \n",
       "2 0.5145645    4.038003  3816      \n",
       "3 0.6836220    4.657358  3816      \n",
       "4 0.1300216    2.445490    12      \n",
       "5 0.6757869    5.911767    98      \n",
       "6 0.5561019    5.644259   719      "
      ]
     },
     "metadata": {},
     "output_type": "display_data"
    }
   ],
   "source": [
    "head(new_df)"
   ]
  },
  {
   "cell_type": "code",
   "execution_count": 15,
   "metadata": {},
   "outputs": [],
   "source": [
    "## change boolean columns\n",
    "new_df$over_18 <- as.integer(as.logical(new_df$over_18))\n",
    "new_df$is_edited <- as.integer(as.logical(new_df$is_edited))\n",
    "new_df$is_quoted <- as.integer(as.logical(new_df$is_quoted))\n",
    "new_df$is_selftext <- as.integer(as.logical(new_df$is_selftext))\n",
    "# new_df$is_flair <- as.character(new_df$is_flair)\n",
    "# new_df$is_flair_css <- as.character(new_df$is_flair_css)"
   ]
  },
  {
   "cell_type": "code",
   "execution_count": 16,
   "metadata": {},
   "outputs": [],
   "source": [
    "dummy_df <- dummy.data.frame(new_df, names=cat_cols)\n",
    "# dummy_df$score <- df$score"
   ]
  },
  {
   "cell_type": "code",
   "execution_count": 17,
   "metadata": {},
   "outputs": [
    {
     "data": {
      "text/html": [
       "'double'"
      ],
      "text/latex": [
       "'double'"
      ],
      "text/markdown": [
       "'double'"
      ],
      "text/plain": [
       "[1] \"double\""
      ]
     },
     "metadata": {},
     "output_type": "display_data"
    }
   ],
   "source": [
    "typeof(dummy_df$title_cosine)"
   ]
  },
  {
   "cell_type": "code",
   "execution_count": 18,
   "metadata": {},
   "outputs": [],
   "source": [
    "target <- 'score'"
   ]
  },
  {
   "cell_type": "code",
   "execution_count": 19,
   "metadata": {},
   "outputs": [],
   "source": [
    "x <- dummy_df\n",
    "y <- df[, target]"
   ]
  },
  {
   "cell_type": "code",
   "execution_count": 20,
   "metadata": {
    "scrolled": false
   },
   "outputs": [
    {
     "data": {
      "text/html": [
       "<table>\n",
       "<thead><tr><th scope=col>over_18</th><th scope=col>is_edited</th><th scope=col>is_quoted</th><th scope=col>is_selftext</th><th scope=col>subredditfood</th><th scope=col>subredditgaming</th><th scope=col>subredditmovies</th><th scope=col>subredditscience</th><th scope=col>subredditworldnews</th><th scope=col>distinguishedadmin</th><th scope=col>⋯</th><th scope=col>senti_comp</th><th scope=col>no_quoted</th><th scope=col>time_since_parent</th><th scope=col>word_counts</th><th scope=col>no_of_past_comments</th><th scope=col>parent_cosine</th><th scope=col>parent_euc</th><th scope=col>title_cosine</th><th scope=col>title_euc</th><th scope=col>link_score</th></tr></thead>\n",
       "<tbody>\n",
       "\t<tr><td>0        </td><td>0        </td><td>0        </td><td>0        </td><td>1        </td><td>0        </td><td>0        </td><td>0        </td><td>0        </td><td>0        </td><td>⋯        </td><td> 0.5423  </td><td>0        </td><td>0        </td><td>31       </td><td>0        </td><td>0        </td><td>0        </td><td>0.2430492</td><td>3.188900 </td><td> 131     </td></tr>\n",
       "\t<tr><td>0        </td><td>0        </td><td>0        </td><td>0        </td><td>1        </td><td>0        </td><td>0        </td><td>0        </td><td>0        </td><td>0        </td><td>⋯        </td><td>-0.5719  </td><td>0        </td><td>0        </td><td>35       </td><td>0        </td><td>0        </td><td>0        </td><td>0.5145645</td><td>4.038003 </td><td>3816     </td></tr>\n",
       "\t<tr><td>0        </td><td>0        </td><td>0        </td><td>0        </td><td>1        </td><td>0        </td><td>0        </td><td>0        </td><td>0        </td><td>0        </td><td>⋯        </td><td> 0.0000  </td><td>0        </td><td>0        </td><td> 9       </td><td>1        </td><td>0        </td><td>0        </td><td>0.6836220</td><td>4.657358 </td><td>3816     </td></tr>\n",
       "\t<tr><td>0        </td><td>0        </td><td>0        </td><td>0        </td><td>1        </td><td>0        </td><td>0        </td><td>0        </td><td>0        </td><td>0        </td><td>⋯        </td><td> 0.0000  </td><td>0        </td><td>0        </td><td>25       </td><td>0        </td><td>0        </td><td>0        </td><td>0.1300216</td><td>2.445490 </td><td>  12     </td></tr>\n",
       "\t<tr><td>0        </td><td>0        </td><td>0        </td><td>0        </td><td>1        </td><td>0        </td><td>0        </td><td>0        </td><td>0        </td><td>0        </td><td>⋯        </td><td>-0.2732  </td><td>0        </td><td>0        </td><td>10       </td><td>0        </td><td>0        </td><td>0        </td><td>0.6757869</td><td>5.911767 </td><td>  98     </td></tr>\n",
       "\t<tr><td>0        </td><td>0        </td><td>0        </td><td>0        </td><td>1        </td><td>0        </td><td>0        </td><td>0        </td><td>0        </td><td>0        </td><td>⋯        </td><td> 0.6696  </td><td>0        </td><td>0        </td><td> 8       </td><td>0        </td><td>0        </td><td>0        </td><td>0.5561019</td><td>5.644259 </td><td> 719     </td></tr>\n",
       "</tbody>\n",
       "</table>\n"
      ],
      "text/latex": [
       "\\begin{tabular}{r|lllllllllllllllllllllllllllllllllllllllllllllllllllllllllllllllllll}\n",
       " over\\_18 & is\\_edited & is\\_quoted & is\\_selftext & subredditfood & subredditgaming & subredditmovies & subredditscience & subredditworldnews & distinguishedadmin & ⋯ & senti\\_comp & no\\_quoted & time\\_since\\_parent & word\\_counts & no\\_of\\_past\\_comments & parent\\_cosine & parent\\_euc & title\\_cosine & title\\_euc & link\\_score\\\\\n",
       "\\hline\n",
       "\t 0         & 0         & 0         & 0         & 1         & 0         & 0         & 0         & 0         & 0         & ⋯         &  0.5423   & 0         & 0         & 31        & 0         & 0         & 0         & 0.2430492 & 3.188900  &  131     \\\\\n",
       "\t 0         & 0         & 0         & 0         & 1         & 0         & 0         & 0         & 0         & 0         & ⋯         & -0.5719   & 0         & 0         & 35        & 0         & 0         & 0         & 0.5145645 & 4.038003  & 3816     \\\\\n",
       "\t 0         & 0         & 0         & 0         & 1         & 0         & 0         & 0         & 0         & 0         & ⋯         &  0.0000   & 0         & 0         &  9        & 1         & 0         & 0         & 0.6836220 & 4.657358  & 3816     \\\\\n",
       "\t 0         & 0         & 0         & 0         & 1         & 0         & 0         & 0         & 0         & 0         & ⋯         &  0.0000   & 0         & 0         & 25        & 0         & 0         & 0         & 0.1300216 & 2.445490  &   12     \\\\\n",
       "\t 0         & 0         & 0         & 0         & 1         & 0         & 0         & 0         & 0         & 0         & ⋯         & -0.2732   & 0         & 0         & 10        & 0         & 0         & 0         & 0.6757869 & 5.911767  &   98     \\\\\n",
       "\t 0         & 0         & 0         & 0         & 1         & 0         & 0         & 0         & 0         & 0         & ⋯         &  0.6696   & 0         & 0         &  8        & 0         & 0         & 0         & 0.5561019 & 5.644259  &  719     \\\\\n",
       "\\end{tabular}\n"
      ],
      "text/markdown": [
       "\n",
       "| over_18 | is_edited | is_quoted | is_selftext | subredditfood | subredditgaming | subredditmovies | subredditscience | subredditworldnews | distinguishedadmin | ⋯ | senti_comp | no_quoted | time_since_parent | word_counts | no_of_past_comments | parent_cosine | parent_euc | title_cosine | title_euc | link_score |\n",
       "|---|---|---|---|---|---|---|---|---|---|---|---|---|---|---|---|---|---|---|---|---|\n",
       "| 0         | 0         | 0         | 0         | 1         | 0         | 0         | 0         | 0         | 0         | ⋯         |  0.5423   | 0         | 0         | 31        | 0         | 0         | 0         | 0.2430492 | 3.188900  |  131      |\n",
       "| 0         | 0         | 0         | 0         | 1         | 0         | 0         | 0         | 0         | 0         | ⋯         | -0.5719   | 0         | 0         | 35        | 0         | 0         | 0         | 0.5145645 | 4.038003  | 3816      |\n",
       "| 0         | 0         | 0         | 0         | 1         | 0         | 0         | 0         | 0         | 0         | ⋯         |  0.0000   | 0         | 0         |  9        | 1         | 0         | 0         | 0.6836220 | 4.657358  | 3816      |\n",
       "| 0         | 0         | 0         | 0         | 1         | 0         | 0         | 0         | 0         | 0         | ⋯         |  0.0000   | 0         | 0         | 25        | 0         | 0         | 0         | 0.1300216 | 2.445490  |   12      |\n",
       "| 0         | 0         | 0         | 0         | 1         | 0         | 0         | 0         | 0         | 0         | ⋯         | -0.2732   | 0         | 0         | 10        | 0         | 0         | 0         | 0.6757869 | 5.911767  |   98      |\n",
       "| 0         | 0         | 0         | 0         | 1         | 0         | 0         | 0         | 0         | 0         | ⋯         |  0.6696   | 0         | 0         |  8        | 0         | 0         | 0         | 0.5561019 | 5.644259  |  719      |\n",
       "\n"
      ],
      "text/plain": [
       "  over_18 is_edited is_quoted is_selftext subredditfood subredditgaming\n",
       "1 0       0         0         0           1             0              \n",
       "2 0       0         0         0           1             0              \n",
       "3 0       0         0         0           1             0              \n",
       "4 0       0         0         0           1             0              \n",
       "5 0       0         0         0           1             0              \n",
       "6 0       0         0         0           1             0              \n",
       "  subredditmovies subredditscience subredditworldnews distinguishedadmin ⋯\n",
       "1 0               0                0                  0                  ⋯\n",
       "2 0               0                0                  0                  ⋯\n",
       "3 0               0                0                  0                  ⋯\n",
       "4 0               0                0                  0                  ⋯\n",
       "5 0               0                0                  0                  ⋯\n",
       "6 0               0                0                  0                  ⋯\n",
       "  senti_comp no_quoted time_since_parent word_counts no_of_past_comments\n",
       "1  0.5423    0         0                 31          0                  \n",
       "2 -0.5719    0         0                 35          0                  \n",
       "3  0.0000    0         0                  9          1                  \n",
       "4  0.0000    0         0                 25          0                  \n",
       "5 -0.2732    0         0                 10          0                  \n",
       "6  0.6696    0         0                  8          0                  \n",
       "  parent_cosine parent_euc title_cosine title_euc link_score\n",
       "1 0             0          0.2430492    3.188900   131      \n",
       "2 0             0          0.5145645    4.038003  3816      \n",
       "3 0             0          0.6836220    4.657358  3816      \n",
       "4 0             0          0.1300216    2.445490    12      \n",
       "5 0             0          0.6757869    5.911767    98      \n",
       "6 0             0          0.5561019    5.644259   719      "
      ]
     },
     "metadata": {},
     "output_type": "display_data"
    }
   ],
   "source": [
    "head(x)"
   ]
  },
  {
   "cell_type": "code",
   "execution_count": 21,
   "metadata": {},
   "outputs": [],
   "source": [
    "train_len <- floor(0.75 * nrow(x))\n",
    "set.seed(0)\n",
    "train_index <- sample(seq_len(nrow(x)), size=train_len)"
   ]
  },
  {
   "cell_type": "code",
   "execution_count": 22,
   "metadata": {},
   "outputs": [],
   "source": [
    "train_x <- x[train_index, ]\n",
    "test_x <- x[-train_index, ]\n",
    "train_y <- y[train_index]\n",
    "test_y <- y[-train_index]"
   ]
  },
  {
   "cell_type": "code",
   "execution_count": 23,
   "metadata": {
    "scrolled": true
   },
   "outputs": [
    {
     "data": {
      "text/html": [
       "<table>\n",
       "<thead><tr><th></th><th scope=col>over_18</th><th scope=col>is_edited</th><th scope=col>is_quoted</th><th scope=col>is_selftext</th><th scope=col>subredditfood</th><th scope=col>subredditgaming</th><th scope=col>subredditmovies</th><th scope=col>subredditscience</th><th scope=col>subredditworldnews</th><th scope=col>distinguishedadmin</th><th scope=col>⋯</th><th scope=col>senti_comp</th><th scope=col>no_quoted</th><th scope=col>time_since_parent</th><th scope=col>word_counts</th><th scope=col>no_of_past_comments</th><th scope=col>parent_cosine</th><th scope=col>parent_euc</th><th scope=col>title_cosine</th><th scope=col>title_euc</th><th scope=col>link_score</th></tr></thead>\n",
       "<tbody>\n",
       "\t<tr><th scope=row>897738</th><td>0        </td><td>0        </td><td>0        </td><td>0        </td><td>0        </td><td>0        </td><td>0        </td><td>0        </td><td>1        </td><td>0        </td><td>⋯        </td><td> 0.0000  </td><td>0        </td><td>65034    </td><td>16       </td><td>500      </td><td>0.2053211</td><td>2.745083 </td><td>0.2956232</td><td>3.346080 </td><td> 7824    </td></tr>\n",
       "\t<tr><th scope=row>269776</th><td>0        </td><td>0        </td><td>0        </td><td>0        </td><td>0        </td><td>1        </td><td>0        </td><td>0        </td><td>0        </td><td>0        </td><td>⋯        </td><td> 0.0000  </td><td>0        </td><td>    0    </td><td> 7       </td><td>287      </td><td>0.0000000</td><td>0.000000 </td><td>0.5620310</td><td>5.567607 </td><td>18402    </td></tr>\n",
       "\t<tr><th scope=row>377574</th><td>0        </td><td>0        </td><td>0        </td><td>1        </td><td>0        </td><td>1        </td><td>0        </td><td>0        </td><td>0        </td><td>0        </td><td>⋯        </td><td> 0.4404  </td><td>0        </td><td> 3125    </td><td> 7       </td><td>  6      </td><td>0.2107857</td><td>3.015407 </td><td>0.2780098</td><td>3.671084 </td><td>    2    </td></tr>\n",
       "\t<tr><th scope=row>576898</th><td>0        </td><td>0        </td><td>0        </td><td>1        </td><td>0        </td><td>0        </td><td>1        </td><td>0        </td><td>0        </td><td>0        </td><td>⋯        </td><td>-0.3595  </td><td>0        </td><td>    0    </td><td>25       </td><td> 25      </td><td>0.0000000</td><td>0.000000 </td><td>0.1142205</td><td>2.468535 </td><td>    3    </td></tr>\n",
       "\t<tr><th scope=row>909126</th><td>0        </td><td>0        </td><td>0        </td><td>0        </td><td>0        </td><td>0        </td><td>0        </td><td>0        </td><td>1        </td><td>0        </td><td>⋯        </td><td>-0.2411  </td><td>0        </td><td> 1995    </td><td>19       </td><td> 79      </td><td>0.2058893</td><td>2.762650 </td><td>0.3000864</td><td>3.368667 </td><td> 4010    </td></tr>\n",
       "\t<tr><th scope=row>204441</th><td>0        </td><td>0        </td><td>0        </td><td>1        </td><td>0        </td><td>1        </td><td>0        </td><td>0        </td><td>0        </td><td>0        </td><td>⋯        </td><td> 0.0000  </td><td>0        </td><td>    0    </td><td> 2       </td><td>990      </td><td>0.0000000</td><td>0.000000 </td><td>0.6326558</td><td>6.773103 </td><td>15700    </td></tr>\n",
       "</tbody>\n",
       "</table>\n"
      ],
      "text/latex": [
       "\\begin{tabular}{r|lllllllllllllllllllllllllllllllllllllllllllllllllllllllllllllllllll}\n",
       "  & over\\_18 & is\\_edited & is\\_quoted & is\\_selftext & subredditfood & subredditgaming & subredditmovies & subredditscience & subredditworldnews & distinguishedadmin & ⋯ & senti\\_comp & no\\_quoted & time\\_since\\_parent & word\\_counts & no\\_of\\_past\\_comments & parent\\_cosine & parent\\_euc & title\\_cosine & title\\_euc & link\\_score\\\\\n",
       "\\hline\n",
       "\t897738 & 0         & 0         & 0         & 0         & 0         & 0         & 0         & 0         & 1         & 0         & ⋯         &  0.0000   & 0         & 65034     & 16        & 500       & 0.2053211 & 2.745083  & 0.2956232 & 3.346080  &  7824    \\\\\n",
       "\t269776 & 0         & 0         & 0         & 0         & 0         & 1         & 0         & 0         & 0         & 0         & ⋯         &  0.0000   & 0         &     0     &  7        & 287       & 0.0000000 & 0.000000  & 0.5620310 & 5.567607  & 18402    \\\\\n",
       "\t377574 & 0         & 0         & 0         & 1         & 0         & 1         & 0         & 0         & 0         & 0         & ⋯         &  0.4404   & 0         &  3125     &  7        &   6       & 0.2107857 & 3.015407  & 0.2780098 & 3.671084  &     2    \\\\\n",
       "\t576898 & 0         & 0         & 0         & 1         & 0         & 0         & 1         & 0         & 0         & 0         & ⋯         & -0.3595   & 0         &     0     & 25        &  25       & 0.0000000 & 0.000000  & 0.1142205 & 2.468535  &     3    \\\\\n",
       "\t909126 & 0         & 0         & 0         & 0         & 0         & 0         & 0         & 0         & 1         & 0         & ⋯         & -0.2411   & 0         &  1995     & 19        &  79       & 0.2058893 & 2.762650  & 0.3000864 & 3.368667  &  4010    \\\\\n",
       "\t204441 & 0         & 0         & 0         & 1         & 0         & 1         & 0         & 0         & 0         & 0         & ⋯         &  0.0000   & 0         &     0     &  2        & 990       & 0.0000000 & 0.000000  & 0.6326558 & 6.773103  & 15700    \\\\\n",
       "\\end{tabular}\n"
      ],
      "text/markdown": [
       "\n",
       "| <!--/--> | over_18 | is_edited | is_quoted | is_selftext | subredditfood | subredditgaming | subredditmovies | subredditscience | subredditworldnews | distinguishedadmin | ⋯ | senti_comp | no_quoted | time_since_parent | word_counts | no_of_past_comments | parent_cosine | parent_euc | title_cosine | title_euc | link_score |\n",
       "|---|---|---|---|---|---|---|---|---|---|---|---|---|---|---|---|---|---|---|---|---|---|\n",
       "| 897738 | 0         | 0         | 0         | 0         | 0         | 0         | 0         | 0         | 1         | 0         | ⋯         |  0.0000   | 0         | 65034     | 16        | 500       | 0.2053211 | 2.745083  | 0.2956232 | 3.346080  |  7824     |\n",
       "| 269776 | 0         | 0         | 0         | 0         | 0         | 1         | 0         | 0         | 0         | 0         | ⋯         |  0.0000   | 0         |     0     |  7        | 287       | 0.0000000 | 0.000000  | 0.5620310 | 5.567607  | 18402     |\n",
       "| 377574 | 0         | 0         | 0         | 1         | 0         | 1         | 0         | 0         | 0         | 0         | ⋯         |  0.4404   | 0         |  3125     |  7        |   6       | 0.2107857 | 3.015407  | 0.2780098 | 3.671084  |     2     |\n",
       "| 576898 | 0         | 0         | 0         | 1         | 0         | 0         | 1         | 0         | 0         | 0         | ⋯         | -0.3595   | 0         |     0     | 25        |  25       | 0.0000000 | 0.000000  | 0.1142205 | 2.468535  |     3     |\n",
       "| 909126 | 0         | 0         | 0         | 0         | 0         | 0         | 0         | 0         | 1         | 0         | ⋯         | -0.2411   | 0         |  1995     | 19        |  79       | 0.2058893 | 2.762650  | 0.3000864 | 3.368667  |  4010     |\n",
       "| 204441 | 0         | 0         | 0         | 1         | 0         | 1         | 0         | 0         | 0         | 0         | ⋯         |  0.0000   | 0         |     0     |  2        | 990       | 0.0000000 | 0.000000  | 0.6326558 | 6.773103  | 15700     |\n",
       "\n"
      ],
      "text/plain": [
       "       over_18 is_edited is_quoted is_selftext subredditfood subredditgaming\n",
       "897738 0       0         0         0           0             0              \n",
       "269776 0       0         0         0           0             1              \n",
       "377574 0       0         0         1           0             1              \n",
       "576898 0       0         0         1           0             0              \n",
       "909126 0       0         0         0           0             0              \n",
       "204441 0       0         0         1           0             1              \n",
       "       subredditmovies subredditscience subredditworldnews distinguishedadmin ⋯\n",
       "897738 0               0                1                  0                  ⋯\n",
       "269776 0               0                0                  0                  ⋯\n",
       "377574 0               0                0                  0                  ⋯\n",
       "576898 1               0                0                  0                  ⋯\n",
       "909126 0               0                1                  0                  ⋯\n",
       "204441 0               0                0                  0                  ⋯\n",
       "       senti_comp no_quoted time_since_parent word_counts no_of_past_comments\n",
       "897738  0.0000    0         65034             16          500                \n",
       "269776  0.0000    0             0              7          287                \n",
       "377574  0.4404    0          3125              7            6                \n",
       "576898 -0.3595    0             0             25           25                \n",
       "909126 -0.2411    0          1995             19           79                \n",
       "204441  0.0000    0             0              2          990                \n",
       "       parent_cosine parent_euc title_cosine title_euc link_score\n",
       "897738 0.2053211     2.745083   0.2956232    3.346080   7824     \n",
       "269776 0.0000000     0.000000   0.5620310    5.567607  18402     \n",
       "377574 0.2107857     3.015407   0.2780098    3.671084      2     \n",
       "576898 0.0000000     0.000000   0.1142205    2.468535      3     \n",
       "909126 0.2058893     2.762650   0.3000864    3.368667   4010     \n",
       "204441 0.0000000     0.000000   0.6326558    6.773103  15700     "
      ]
     },
     "metadata": {},
     "output_type": "display_data"
    }
   ],
   "source": [
    "head(train_x)"
   ]
  },
  {
   "cell_type": "code",
   "execution_count": 24,
   "metadata": {},
   "outputs": [],
   "source": [
    "linearMod <- lm(train_y ~ .,train_x)"
   ]
  },
  {
   "cell_type": "code",
   "execution_count": 25,
   "metadata": {
    "scrolled": true
   },
   "outputs": [
    {
     "data": {
      "text/plain": [
       "\n",
       "Call:\n",
       "lm(formula = train_y ~ ., data = train_x)\n",
       "\n",
       "Residuals:\n",
       "    Min      1Q  Median      3Q     Max \n",
       "-2107.6   -10.0    -4.9     0.4  5087.6 \n",
       "\n",
       "Coefficients: (4 not defined because of singularities)\n",
       "                               Estimate Std. Error t value Pr(>|t|)    \n",
       "(Intercept)                   3.667e+02  2.740e+02   1.338 0.180840    \n",
       "over_18                       5.646e+00  6.607e-01   8.546  < 2e-16 ***\n",
       "is_edited                     9.524e+00  4.853e-01  19.624  < 2e-16 ***\n",
       "is_quoted                     2.149e+00  4.756e-01   4.519 6.22e-06 ***\n",
       "is_selftext                   4.158e-01  2.112e-01   1.969 0.048987 *  \n",
       "subredditfood                -4.816e+00  4.099e-01 -11.750  < 2e-16 ***\n",
       "subredditgaming              -1.309e+00  2.560e-01  -5.113 3.16e-07 ***\n",
       "subredditmovies               2.449e+00  2.455e-01   9.973  < 2e-16 ***\n",
       "subredditscience             -3.634e+00  3.987e-01  -9.116  < 2e-16 ***\n",
       "subredditworldnews                   NA         NA      NA       NA    \n",
       "distinguishedadmin            4.105e+01  4.665e+01   0.880 0.378865    \n",
       "distinguishedmoderator       -6.204e+00  1.454e+00  -4.268 1.97e-05 ***\n",
       "distinguisheduser                    NA         NA      NA       NA    \n",
       "hour_of_comment0             -2.513e-01  5.308e-01  -0.473 0.635907    \n",
       "hour_of_comment1             -1.063e+00  5.375e-01  -1.978 0.047962 *  \n",
       "hour_of_comment2              1.067e+00  5.383e-01   1.981 0.047555 *  \n",
       "hour_of_comment3             -8.162e-01  5.466e-01  -1.493 0.135371    \n",
       "hour_of_comment4             -1.690e+00  5.558e-01  -3.041 0.002356 ** \n",
       "hour_of_comment5             -2.245e+00  5.790e-01  -3.878 0.000106 ***\n",
       "hour_of_comment6             -2.175e+00  5.949e-01  -3.656 0.000256 ***\n",
       "hour_of_comment7             -1.271e+00  6.265e-01  -2.030 0.042404 *  \n",
       "hour_of_comment8             -1.016e+00  6.527e-01  -1.557 0.119518    \n",
       "hour_of_comment9             -1.624e+00  6.705e-01  -2.422 0.015431 *  \n",
       "hour_of_comment10            -6.929e-01  6.611e-01  -1.048 0.294537    \n",
       "hour_of_comment11             7.808e-01  6.131e-01   1.274 0.202825    \n",
       "hour_of_comment12             2.352e+00  5.722e-01   4.110 3.95e-05 ***\n",
       "hour_of_comment13             3.358e+00  5.368e-01   6.256 3.96e-10 ***\n",
       "hour_of_comment14             3.968e+00  5.097e-01   7.786 6.95e-15 ***\n",
       "hour_of_comment15             2.245e+00  4.985e-01   4.505 6.65e-06 ***\n",
       "hour_of_comment16             5.527e-01  4.985e-01   1.109 0.267486    \n",
       "hour_of_comment17            -2.908e-01  4.966e-01  -0.586 0.558143    \n",
       "hour_of_comment18             1.597e-01  5.003e-01   0.319 0.749542    \n",
       "hour_of_comment19             3.584e-01  5.010e-01   0.715 0.474376    \n",
       "hour_of_comment20             5.923e-01  5.040e-01   1.175 0.239902    \n",
       "hour_of_comment21            -3.559e-01  5.115e-01  -0.696 0.486587    \n",
       "hour_of_comment22             1.204e-01  5.175e-01   0.233 0.816060    \n",
       "hour_of_comment23                    NA         NA      NA       NA    \n",
       "weekday0                     -5.673e-01  3.024e-01  -1.876 0.060618 .  \n",
       "weekday1                     -9.516e-01  3.024e-01  -3.146 0.001654 ** \n",
       "weekday2                     -1.362e+00  3.008e-01  -4.527 5.98e-06 ***\n",
       "weekday3                     -6.058e-01  3.043e-01  -1.991 0.046499 *  \n",
       "weekday4                      3.945e-01  2.895e-01   1.363 0.172924    \n",
       "weekday5                      5.492e-01  3.026e-01   1.815 0.069480 .  \n",
       "weekday6                             NA         NA      NA       NA    \n",
       "gilded                        5.729e+02  3.231e+00 177.320  < 2e-16 ***\n",
       "controversiality             -1.026e+01  3.901e-01 -26.295  < 2e-16 ***\n",
       "upvote_ratio                  2.020e+01  6.626e-01  30.483  < 2e-16 ***\n",
       "time_since_link              -1.097e-06  2.856e-07  -3.841 0.000122 ***\n",
       "depth                        -9.391e-01  4.076e-02 -23.037  < 2e-16 ***\n",
       "no_of_linked_sr              -1.553e+00  3.822e-01  -4.064 4.83e-05 ***\n",
       "no_of_linked_urls             8.683e-01  1.897e-01   4.578 4.69e-06 ***\n",
       "parent_score                  1.784e-02  2.769e-04  64.437  < 2e-16 ***\n",
       "comment_tree_root_score       1.752e-03  1.330e-04  13.170  < 2e-16 ***\n",
       "time_since_comment_tree_root  1.545e-05  2.976e-06   5.192 2.08e-07 ***\n",
       "subjectivity                 -4.741e-01  8.078e-02  -5.869 4.38e-09 ***\n",
       "senti_neg                    -3.692e+02  2.740e+02  -1.347 0.177888    \n",
       "senti_pos                    -3.720e+02  2.740e+02  -1.358 0.174610    \n",
       "senti_neu                    -3.703e+02  2.740e+02  -1.351 0.176584    \n",
       "senti_comp                    6.932e-02  2.495e-01   0.278 0.781187    \n",
       "no_quoted                    -1.904e-01  1.324e-01  -1.438 0.150364    \n",
       "time_since_parent            -3.104e-05  3.648e-06  -8.509  < 2e-16 ***\n",
       "word_counts                   1.046e-02  2.230e-03   4.689 2.75e-06 ***\n",
       "no_of_past_comments          -7.699e-03  1.238e-04 -62.205  < 2e-16 ***\n",
       "parent_cosine                 7.307e+00  1.330e+00   5.495 3.91e-08 ***\n",
       "parent_euc                   -9.818e-01  1.376e-01  -7.137 9.52e-13 ***\n",
       "title_cosine                  2.694e+00  1.109e+00   2.429 0.015123 *  \n",
       "title_euc                    -7.782e-01  1.593e-01  -4.886 1.03e-06 ***\n",
       "link_score                    5.785e-04  1.238e-05  46.739  < 2e-16 ***\n",
       "---\n",
       "Signif. codes:  0 ‘***’ 0.001 ‘**’ 0.01 ‘*’ 0.05 ‘.’ 0.1 ‘ ’ 1\n",
       "\n",
       "Residual standard error: 65.97 on 685326 degrees of freedom\n",
       "  (43842 observations deleted due to missingness)\n",
       "Multiple R-squared:  0.06876,\tAdjusted R-squared:  0.06868 \n",
       "F-statistic: 803.2 on 63 and 685326 DF,  p-value: < 2.2e-16\n"
      ]
     },
     "metadata": {},
     "output_type": "display_data"
    }
   ],
   "source": [
    "summary(linearMod)"
   ]
  },
  {
   "cell_type": "code",
   "execution_count": 26,
   "metadata": {
    "scrolled": true
   },
   "outputs": [
    {
     "name": "stdout",
     "output_type": "stream",
     "text": [
      "\n",
      "Call:\n",
      "lm(formula = train_y ~ ., data = train_x)\n",
      "\n",
      "Residuals:\n",
      "    Min      1Q  Median      3Q     Max \n",
      "-2107.6   -10.0    -4.9     0.4  5087.6 \n",
      "\n",
      "Coefficients: (4 not defined because of singularities)\n",
      "                               Estimate Std. Error t value Pr(>|t|)    \n",
      "(Intercept)                   3.667e+02  2.740e+02   1.338 0.180840    \n",
      "over_18                       5.646e+00  6.607e-01   8.546  < 2e-16 ***\n",
      "is_edited                     9.524e+00  4.853e-01  19.624  < 2e-16 ***\n",
      "is_quoted                     2.149e+00  4.756e-01   4.519 6.22e-06 ***\n",
      "is_selftext                   4.158e-01  2.112e-01   1.969 0.048987 *  \n",
      "subredditfood                -4.816e+00  4.099e-01 -11.750  < 2e-16 ***\n",
      "subredditgaming              -1.309e+00  2.560e-01  -5.113 3.16e-07 ***\n",
      "subredditmovies               2.449e+00  2.455e-01   9.973  < 2e-16 ***\n",
      "subredditscience             -3.634e+00  3.987e-01  -9.116  < 2e-16 ***\n",
      "subredditworldnews                   NA         NA      NA       NA    \n",
      "distinguishedadmin            4.105e+01  4.665e+01   0.880 0.378865    \n",
      "distinguishedmoderator       -6.204e+00  1.454e+00  -4.268 1.97e-05 ***\n",
      "distinguisheduser                    NA         NA      NA       NA    \n",
      "hour_of_comment0             -2.513e-01  5.308e-01  -0.473 0.635907    \n",
      "hour_of_comment1             -1.063e+00  5.375e-01  -1.978 0.047962 *  \n",
      "hour_of_comment2              1.067e+00  5.383e-01   1.981 0.047555 *  \n",
      "hour_of_comment3             -8.162e-01  5.466e-01  -1.493 0.135371    \n",
      "hour_of_comment4             -1.690e+00  5.558e-01  -3.041 0.002356 ** \n",
      "hour_of_comment5             -2.245e+00  5.790e-01  -3.878 0.000106 ***\n",
      "hour_of_comment6             -2.175e+00  5.949e-01  -3.656 0.000256 ***\n",
      "hour_of_comment7             -1.271e+00  6.265e-01  -2.030 0.042404 *  \n",
      "hour_of_comment8             -1.016e+00  6.527e-01  -1.557 0.119518    \n",
      "hour_of_comment9             -1.624e+00  6.705e-01  -2.422 0.015431 *  \n",
      "hour_of_comment10            -6.929e-01  6.611e-01  -1.048 0.294537    \n",
      "hour_of_comment11             7.808e-01  6.131e-01   1.274 0.202825    \n",
      "hour_of_comment12             2.352e+00  5.722e-01   4.110 3.95e-05 ***\n",
      "hour_of_comment13             3.358e+00  5.368e-01   6.256 3.96e-10 ***\n",
      "hour_of_comment14             3.968e+00  5.097e-01   7.786 6.95e-15 ***\n",
      "hour_of_comment15             2.245e+00  4.985e-01   4.505 6.65e-06 ***\n",
      "hour_of_comment16             5.527e-01  4.985e-01   1.109 0.267486    \n",
      "hour_of_comment17            -2.908e-01  4.966e-01  -0.586 0.558143    \n",
      "hour_of_comment18             1.597e-01  5.003e-01   0.319 0.749542    \n",
      "hour_of_comment19             3.584e-01  5.010e-01   0.715 0.474376    \n",
      "hour_of_comment20             5.923e-01  5.040e-01   1.175 0.239902    \n",
      "hour_of_comment21            -3.559e-01  5.115e-01  -0.696 0.486587    \n",
      "hour_of_comment22             1.204e-01  5.175e-01   0.233 0.816060    \n",
      "hour_of_comment23                    NA         NA      NA       NA    \n",
      "weekday0                     -5.673e-01  3.024e-01  -1.876 0.060618 .  \n",
      "weekday1                     -9.516e-01  3.024e-01  -3.146 0.001654 ** \n",
      "weekday2                     -1.362e+00  3.008e-01  -4.527 5.98e-06 ***\n",
      "weekday3                     -6.058e-01  3.043e-01  -1.991 0.046499 *  \n",
      "weekday4                      3.945e-01  2.895e-01   1.363 0.172924    \n",
      "weekday5                      5.492e-01  3.026e-01   1.815 0.069480 .  \n",
      "weekday6                             NA         NA      NA       NA    \n",
      "gilded                        5.729e+02  3.231e+00 177.320  < 2e-16 ***\n",
      "controversiality             -1.026e+01  3.901e-01 -26.295  < 2e-16 ***\n",
      "upvote_ratio                  2.020e+01  6.626e-01  30.483  < 2e-16 ***\n",
      "time_since_link              -1.097e-06  2.856e-07  -3.841 0.000122 ***\n",
      "depth                        -9.391e-01  4.076e-02 -23.037  < 2e-16 ***\n",
      "no_of_linked_sr              -1.553e+00  3.822e-01  -4.064 4.83e-05 ***\n",
      "no_of_linked_urls             8.683e-01  1.897e-01   4.578 4.69e-06 ***\n",
      "parent_score                  1.784e-02  2.769e-04  64.437  < 2e-16 ***\n",
      "comment_tree_root_score       1.752e-03  1.330e-04  13.170  < 2e-16 ***\n",
      "time_since_comment_tree_root  1.545e-05  2.976e-06   5.192 2.08e-07 ***\n",
      "subjectivity                 -4.741e-01  8.078e-02  -5.869 4.38e-09 ***\n",
      "senti_neg                    -3.692e+02  2.740e+02  -1.347 0.177888    \n",
      "senti_pos                    -3.720e+02  2.740e+02  -1.358 0.174610    \n",
      "senti_neu                    -3.703e+02  2.740e+02  -1.351 0.176584    \n",
      "senti_comp                    6.932e-02  2.495e-01   0.278 0.781187    \n",
      "no_quoted                    -1.904e-01  1.324e-01  -1.438 0.150364    \n",
      "time_since_parent            -3.104e-05  3.648e-06  -8.509  < 2e-16 ***\n",
      "word_counts                   1.046e-02  2.230e-03   4.689 2.75e-06 ***\n",
      "no_of_past_comments          -7.699e-03  1.238e-04 -62.205  < 2e-16 ***\n",
      "parent_cosine                 7.307e+00  1.330e+00   5.495 3.91e-08 ***\n",
      "parent_euc                   -9.818e-01  1.376e-01  -7.137 9.52e-13 ***\n",
      "title_cosine                  2.694e+00  1.109e+00   2.429 0.015123 *  \n",
      "title_euc                    -7.782e-01  1.593e-01  -4.886 1.03e-06 ***\n",
      "link_score                    5.785e-04  1.238e-05  46.739  < 2e-16 ***\n",
      "---\n",
      "Signif. codes:  0 ‘***’ 0.001 ‘**’ 0.01 ‘*’ 0.05 ‘.’ 0.1 ‘ ’ 1\n",
      "\n",
      "Residual standard error: 65.97 on 685326 degrees of freedom\n",
      "  (43842 observations deleted due to missingness)\n",
      "Multiple R-squared:  0.06876,\tAdjusted R-squared:  0.06868 \n",
      "F-statistic: 803.2 on 63 and 685326 DF,  p-value: < 2.2e-16\n",
      "\n"
     ]
    }
   ],
   "source": [
    "sink(\"model_summary.txt\")\n",
    "print(summary(linearMod))\n",
    "sink() "
   ]
  },
  {
   "cell_type": "code",
   "execution_count": 27,
   "metadata": {},
   "outputs": [
    {
     "data": {
      "image/png": "[encoded data removed]",
      "text/plain": [
       "plot without title"
      ]
     },
     "metadata": {},
     "output_type": "display_data"
    }
   ],
   "source": [
    "plot(test_x[, c('is_quoted')], test_y)"
   ]
  },
  {
   "cell_type": "code",
   "execution_count": 28,
   "metadata": {},
   "outputs": [
    {
     "data": {
      "image/png": "[encoded data removed]",
      "text/plain": [
       "plot without title"
      ]
     },
     "metadata": {},
     "output_type": "display_data"
    }
   ],
   "source": [
    "plot(test_x[, c('title_cosine')], test_y)"
   ]
  },
  {
   "cell_type": "code",
   "execution_count": null,
   "metadata": {},
   "outputs": [],
   "source": []
  }
 ],
 "metadata": {
  "kernelspec": {
   "display_name": "R",
   "language": "R",
   "name": "ir"
  },
  "language_info": {
   "codemirror_mode": "r",
   "file_extension": ".r",
   "mimetype": "text/x-r-source",
   "name": "R",
   "pygments_lexer": "r",
   "version": "3.4.4"
  }
 },
 "nbformat": 4,
 "nbformat_minor": 2
}
