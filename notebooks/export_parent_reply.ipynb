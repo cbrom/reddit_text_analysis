{
 "cells": [
  {
   "cell_type": "code",
   "execution_count": 1,
   "metadata": {},
   "outputs": [
    {
     "name": "stderr",
     "output_type": "stream",
     "text": [
      "/home/cbrom/anaconda3/lib/python3.6/site-packages/h5py/__init__.py:36: FutureWarning: Conversion of the second argument of issubdtype from `float` to `np.floating` is deprecated. In future, it will be treated as `np.float64 == np.dtype(float).type`.\n",
      "  from ._conv import register_converters as _register_converters\n"
     ]
    },
    {
     "name": "stdout",
     "output_type": "stream",
     "text": [
      "1.12.0\n"
     ]
    }
   ],
   "source": [
    "from __future__ import absolute_import, division, print_function\n",
    "\n",
    "import tensorflow as tf\n",
    "print(tf.__version__)\n",
    "tf.enable_eager_execution()\n",
    "\n",
    "import matplotlib.pyplot as plt\n",
    "from sklearn.model_selection import train_test_split\n",
    "from gensim.models import word2vec\n",
    "import gensim\n",
    "import pandas as pd\n",
    "import nltk\n",
    "import unicodedata\n",
    "\n",
    "import unicodedata\n",
    "import re\n",
    "import numpy as np\n",
    "import os\n",
    "import sys\n",
    "import time\n",
    "import logging\n",
    "import sqlite3\n",
    "import multiprocessing\n",
    "from itertools import cycle\n",
    "import warnings\n",
    "\n",
    "warnings.filterwarnings('ignore')"
   ]
  },
  {
   "cell_type": "code",
   "execution_count": 2,
   "metadata": {},
   "outputs": [],
   "source": [
    "# sql connection\n",
    "sql_con = sqlite3.connect('/home/cbrom/workspace/2015-02.db')"
   ]
  },
  {
   "cell_type": "code",
   "execution_count": 3,
   "metadata": {},
   "outputs": [
    {
     "name": "stdout",
     "output_type": "stream",
     "text": [
      "Total time to read: 13.970335721969604 secs\n"
     ]
    }
   ],
   "source": [
    "start = time.time()\n",
    "sql_data = pd.read_sql(\"SELECT parent, comment from parent_reply\", sql_con)\n",
    "print('Total time to read: ' + str((time.time() - start)) + ' secs')"
   ]
  },
  {
   "cell_type": "code",
   "execution_count": 4,
   "metadata": {},
   "outputs": [
    {
     "name": "stdout",
     "output_type": "stream",
     "text": [
      "Total rows: 4506428\n"
     ]
    }
   ],
   "source": [
    "print('Total rows: ' + str(len(sql_data)))"
   ]
  },
  {
   "cell_type": "code",
   "execution_count": 13,
   "metadata": {},
   "outputs": [],
   "source": [
    "def clean_up_text(pd_pairs, col_name):\n",
    "    start = time.time()\n",
    "    \n",
    "    cleaned_col = 'cleaned_' + col_name\n",
    "    \n",
    "    # normalize tabs, replace new lines\n",
    "    pd_pairs[cleaned_col] = pd_pairs[col_name].apply(\n",
    "    lambda col: str(col).replace('\\t', ' ').replace('\\n', ''))\n",
    "    \n",
    "    # remove all characters except A-Z and a dot.\n",
    "    pd_pairs[cleaned_col] = pd_pairs[cleaned_col].apply(\n",
    "    lambda cl_col: re.sub(\"[^a-zA-Z\\.]\", \" \", cl_col))\n",
    "    \n",
    "    # shrink spaces\n",
    "    pd_pairs[cleaned_col] = pd_pairs[cleaned_col].apply(\n",
    "    lambda cl_col: re.sub(\"[ .]+\", \" \", cl_col))\n",
    "    \n",
    "    # strip\n",
    "    pd_pairs[cleaned_col] = pd_pairs[cleaned_col].apply(\n",
    "    lambda cl_col: cl_col.strip())\n",
    "    \n",
    "    # to lower case\n",
    "    pd_pairs[cleaned_col] = pd_pairs[cleaned_col].apply(\n",
    "    lambda cl_col: cl_col.lower())\n",
    "    \n",
    "    # change to unicode\n",
    "    pd_pairs[cleaned_col] = pd_pairs[cleaned_col].apply(\n",
    "    lambda cl_col: ''.join(c for c in unicodedata.normalize('NFD', cl_col)\n",
    "                          if unicodedata.category(c) != 'Mn'))\n",
    "    \n",
    "    # create space between word and panctuation\n",
    "    pd_pairs[cleaned_col] = pd_pairs[cleaned_col].apply(\n",
    "    lambda cl_col: re.sub(r\"([?.!,])\", r\" \\1 \", cl_col))\n",
    "    \n",
    "    # add a start and an end token to sentence\n",
    "    pd_pairs[cleaned_col] = pd_pairs[cleaned_col].apply(\n",
    "    lambda cl_col: '<start> ' + cl_col + ' <end>')\n",
    "    \n",
    "    return"
   ]
  },
  {
   "cell_type": "code",
   "execution_count": 14,
   "metadata": {},
   "outputs": [],
   "source": [
    "clean_up_text(sql_data, 'parent')"
   ]
  },
  {
   "cell_type": "code",
   "execution_count": 15,
   "metadata": {},
   "outputs": [],
   "source": [
    "clean_up_text(sql_data, 'comment')"
   ]
  },
  {
   "cell_type": "code",
   "execution_count": 16,
   "metadata": {
    "scrolled": false
   },
   "outputs": [
    {
     "data": {
      "text/html": [
       "<div>\n",
       "<style scoped>\n",
       "    .dataframe tbody tr th:only-of-type {\n",
       "        vertical-align: middle;\n",
       "    }\n",
       "\n",
       "    .dataframe tbody tr th {\n",
       "        vertical-align: top;\n",
       "    }\n",
       "\n",
       "    .dataframe thead th {\n",
       "        text-align: right;\n",
       "    }\n",
       "</style>\n",
       "<table border=\"1\" class=\"dataframe\">\n",
       "  <thead>\n",
       "    <tr style=\"text-align: right;\">\n",
       "      <th></th>\n",
       "      <th>parent</th>\n",
       "      <th>comment</th>\n",
       "      <th>cleaned_parent</th>\n",
       "      <th>cleaned_comment</th>\n",
       "    </tr>\n",
       "  </thead>\n",
       "  <tbody>\n",
       "    <tr>\n",
       "      <th>0</th>\n",
       "      <td>&amp;gt; CDBOOT: Cannot boot from CD - Code: 5 new...</td>\n",
       "      <td>Ok will do!</td>\n",
       "      <td>&lt;start&gt; gt cdboot cannot boot from cd code new...</td>\n",
       "      <td>&lt;start&gt; ok will do &lt;end&gt;</td>\n",
       "    </tr>\n",
       "    <tr>\n",
       "      <th>1</th>\n",
       "      <td>Sounds like someone wants some pants jerky</td>\n",
       "      <td>I'm an avid fan of pants meat.</td>\n",
       "      <td>&lt;start&gt; sounds like someone wants some pants j...</td>\n",
       "      <td>&lt;start&gt; i m an avid fan of pants meat &lt;end&gt;</td>\n",
       "    </tr>\n",
       "    <tr>\n",
       "      <th>2</th>\n",
       "      <td>That's definitely a valid point, but I would a...</td>\n",
       "      <td>But where do we draw the line on frequency? An...</td>\n",
       "      <td>&lt;start&gt; that s definitely a valid point but i ...</td>\n",
       "      <td>&lt;start&gt; but where do we draw the line on frequ...</td>\n",
       "    </tr>\n",
       "    <tr>\n",
       "      <th>3</th>\n",
       "      <td>I feel like Jotaro would like Beat-em-ups more...</td>\n",
       "      <td>In part 6 he starts getting into Octodad</td>\n",
       "      <td>&lt;start&gt; i feel like jotaro would like beat em ...</td>\n",
       "      <td>&lt;start&gt; in part he starts getting into octodad...</td>\n",
       "    </tr>\n",
       "    <tr>\n",
       "      <th>4</th>\n",
       "      <td>I think we've just discovered the fandom's sbu...</td>\n",
       "      <td>Land of Pictures and Text</td>\n",
       "      <td>&lt;start&gt; i think we ve just discovered the fand...</td>\n",
       "      <td>&lt;start&gt; land of pictures and text &lt;end&gt;</td>\n",
       "    </tr>\n",
       "  </tbody>\n",
       "</table>\n",
       "</div>"
      ],
      "text/plain": [
       "                                              parent  \\\n",
       "0  &gt; CDBOOT: Cannot boot from CD - Code: 5 new...   \n",
       "1         Sounds like someone wants some pants jerky   \n",
       "2  That's definitely a valid point, but I would a...   \n",
       "3  I feel like Jotaro would like Beat-em-ups more...   \n",
       "4  I think we've just discovered the fandom's sbu...   \n",
       "\n",
       "                                             comment  \\\n",
       "0                                        Ok will do!   \n",
       "1                    I'm an avid fan of pants meat.    \n",
       "2  But where do we draw the line on frequency? An...   \n",
       "3           In part 6 he starts getting into Octodad   \n",
       "4                          Land of Pictures and Text   \n",
       "\n",
       "                                      cleaned_parent  \\\n",
       "0  <start> gt cdboot cannot boot from cd code new...   \n",
       "1  <start> sounds like someone wants some pants j...   \n",
       "2  <start> that s definitely a valid point but i ...   \n",
       "3  <start> i feel like jotaro would like beat em ...   \n",
       "4  <start> i think we ve just discovered the fand...   \n",
       "\n",
       "                                     cleaned_comment  \n",
       "0                           <start> ok will do <end>  \n",
       "1        <start> i m an avid fan of pants meat <end>  \n",
       "2  <start> but where do we draw the line on frequ...  \n",
       "3  <start> in part he starts getting into octodad...  \n",
       "4            <start> land of pictures and text <end>  "
      ]
     },
     "execution_count": 16,
     "metadata": {},
     "output_type": "execute_result"
    }
   ],
   "source": [
    "sql_data.head()"
   ]
  },
  {
   "cell_type": "code",
   "execution_count": 17,
   "metadata": {},
   "outputs": [],
   "source": [
    "cleaned_data = sql_data[['cleaned_parent', 'cleaned_comment']]"
   ]
  },
  {
   "cell_type": "code",
   "execution_count": 18,
   "metadata": {},
   "outputs": [],
   "source": [
    "cleaned_data.to_csv('cleaned_data.csv', index=False)"
   ]
  },
  {
   "cell_type": "code",
   "execution_count": null,
   "metadata": {},
   "outputs": [],
   "source": []
  },
  {
   "cell_type": "markdown",
   "metadata": {},
   "source": [
    "-----------------------------"
   ]
  }
 ],
 "metadata": {
  "kernelspec": {
   "display_name": "Python 3",
   "language": "python",
   "name": "python3"
  },
  "language_info": {
   "codemirror_mode": {
    "name": "ipython",
    "version": 3
   },
   "file_extension": ".py",
   "mimetype": "text/x-python",
   "name": "python",
   "nbconvert_exporter": "python",
   "pygments_lexer": "ipython3",
   "version": "3.6.4"
  }
 },
 "nbformat": 4,
 "nbformat_minor": 2
}
